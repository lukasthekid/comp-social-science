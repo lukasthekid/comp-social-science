{
 "cells": [
  {
   "cell_type": "code",
   "execution_count": null,
   "metadata": {},
   "outputs": [],
   "source": [
    "import pandas as pd\n",
    "import numpy as np\n",
    "import networkx as nx\n",
    "import matplotlib.pyplot as plt"
   ]
  },
  {
   "cell_type": "code",
   "execution_count": null,
   "metadata": {},
   "outputs": [],
   "source": [
    "# load data\n",
    "df_edges = pd.read_csv(\"../data/musae_git_edges.csv\")\n",
    "df_nodes = pd.read_csv(\"../data/musae_git_target.csv\")"
   ]
  },
  {
   "cell_type": "code",
   "execution_count": null,
   "metadata": {},
   "outputs": [],
   "source": [
    "df_nodes.head()"
   ]
  },
  {
   "cell_type": "code",
   "execution_count": null,
   "metadata": {},
   "outputs": [],
   "source": [
    "df_edges.head()"
   ]
  },
  {
   "cell_type": "code",
   "execution_count": null,
   "metadata": {},
   "outputs": [],
   "source": [
    "# create graph\n",
    "G = nx.Graph()\n",
    "\n",
    "# Add nodes to the graph\n",
    "for index, row in df_nodes.iterrows():\n",
    "    G.add_node(row['id'], status=row['ml_target'])\n",
    "\n",
    "# Add edges to the graph\n",
    "for index, row in df_edges.iterrows():\n",
    "    G.add_edge(row['id_1'], row['id_2'])"
   ]
  },
  {
   "cell_type": "code",
   "execution_count": null,
   "metadata": {},
   "outputs": [],
   "source": [
    "def run_simulation(G, beta, gamma, max_iter=False):\n",
    "    # Initialize influence and recovery attributes for each node\n",
    "    num_infected = []\n",
    "    num_recovered = []\n",
    "    num_susceptible = []\n",
    "    iter = 0\n",
    "\n",
    "    for node in G.nodes:\n",
    "        G.nodes[node]['influence'] = 0  # initially, no node has influenced anyone\n",
    "    \n",
    "    # Perform the contagion simulation\n",
    "    while True:\n",
    "        if max_iter == iter:\n",
    "            break\n",
    "        \n",
    "        # Select an infected node that has not yet recovered\n",
    "        infected_nodes = [node for node, data in G.nodes(data=True) if data['status'] == 1]\n",
    "        overall_susceptible = [node for node, data in G.nodes(data=True) if data['status'] == 0]\n",
    "        recovered_nodes = [node for node, data in G.nodes(data=True) if data['status'] == 2]\n",
    "        \n",
    "        # add number of each node group for plotting\n",
    "        num_infected.append(len(infected_nodes))\n",
    "        num_susceptible.append(len(overall_susceptible))\n",
    "        num_recovered.append(len(recovered_nodes))\n",
    "\n",
    "        if not infected_nodes:  # if no more active infected nodes\n",
    "            break\n",
    "        node = np.random.choice(infected_nodes)\n",
    "\n",
    "        # List its susceptible neighbors\n",
    "        susceptible_neighbors = [n for n in G.neighbors(node) if G.nodes[n]['status'] == 0]\n",
    "\n",
    "        # Infect susceptible neighbors with probability beta\n",
    "        for n in susceptible_neighbors:\n",
    "            if np.random.random() <= beta:\n",
    "                G.nodes[n]['status'] = 1  # Change to infected\n",
    "                G.nodes[node]['influence'] += 1  # Increase influence of the infecting node\n",
    "\n",
    "        # Recovery process for infected node with probability gamma\n",
    "        if np.random.random() <= gamma:\n",
    "            G.nodes[node]['status'] = 2  # Change to recovered\n",
    "            \n",
    "        iter += 1\n",
    "    \n",
    "    return G, num_infected, num_susceptible, num_recovered, iter, beta, gamma"
   ]
  },
  {
   "cell_type": "code",
   "execution_count": null,
   "metadata": {},
   "outputs": [],
   "source": [
    "result_groups = []\n",
    "result_groups.append(run_simulation(G.copy(), 0.3, 0.2, max_iter=50000))\n",
    "result_groups.append(run_simulation(G.copy(), 0.5, 0.2, max_iter=50000))\n",
    "result_groups.append(run_simulation(G.copy(), 0.5, 0.3, max_iter=50000))\n",
    "result_groups.append(run_simulation(G.copy(), 0.7, 0.3, max_iter=50000))\n",
    "result_groups.append(run_simulation(G.copy(), 0.7, 0.5, max_iter=50000))\n",
    "result_groups.append(run_simulation(G.copy(), 1.0, 0.5, max_iter=50000))"
   ]
  },
  {
   "cell_type": "code",
   "execution_count": null,
   "metadata": {},
   "outputs": [],
   "source": [
    "aa = [([1,2,3,4], [5,4,3,2], [2,3,4,5]), ([1,2,3,4], [1,2,3,4], [1, 5, 6, 9])]\n",
    "\n",
    "for results in aa:\n",
    "    fig, ax = plt.subplots()\n",
    "\n",
    "    ax.plot(results[0], results[1], color='red', label='lab1')\n",
    "    ax.plot(results[0], results[2], color='blue', label='lab2')\n",
    "    ax.legend()\n",
    "    \n",
    "    ax.set_title(\"Plot 1\")\n",
    "plt.show()   \n"
   ]
  },
  {
   "cell_type": "code",
   "execution_count": null,
   "metadata": {},
   "outputs": [],
   "source": [
    "import matplotlib.pyplot as plt\n",
    "\n",
    "x_vals = range(results[4])\n",
    "# Plotting the three lines with different colors\n",
    "plt.plot(x_vals, results[1], color='red', label='Infected')\n",
    "plt.plot(x_vals, results[2], color='green', label='Susceptible')\n",
    "plt.plot(x_vals, results[3], color='blue', label='Recovered')\n",
    "\n",
    "# Adding labels and title\n",
    "plt.xlabel('Iterations')\n",
    "plt.ylabel('Number of nodes')\n",
    "plt.title(f'S vs I vs R for {results[4]} iterations')\n",
    "\n",
    "# Adding a legend\n",
    "plt.legend()\n",
    "\n",
    "# Displaying the plot\n",
    "plt.show()"
   ]
  },
  {
   "cell_type": "code",
   "execution_count": null,
   "metadata": {},
   "outputs": [],
   "source": [
    "# Get the node attributes as a dictionary\n",
    "node_dict = nx.get_node_attributes(G1[0], 'status')\n",
    "influence_dict = nx.get_node_attributes(G1[0], 'influence')\n",
    "\n",
    "# Convert the dictionary to a DataFrame\n",
    "df = pd.DataFrame({\n",
    "    'id': node_dict.keys(),\n",
    "    'status': node_dict.values(),\n",
    "    'influence': influence_dict.values()\n",
    "})"
   ]
  }
 ],
 "metadata": {
  "kernelspec": {
   "display_name": "Python 3",
   "language": "python",
   "name": "python3"
  },
  "language_info": {
   "codemirror_mode": {
    "name": "ipython",
    "version": 3
   },
   "file_extension": ".py",
   "mimetype": "text/x-python",
   "name": "python",
   "nbconvert_exporter": "python",
   "pygments_lexer": "ipython3",
   "version": "3.9.7"
  },
  "orig_nbformat": 4
 },
 "nbformat": 4,
 "nbformat_minor": 2
}
