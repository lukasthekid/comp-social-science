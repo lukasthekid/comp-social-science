{
 "cells": [
  {
   "cell_type": "code",
   "execution_count": 1,
   "id": "25f4bf42",
   "metadata": {},
   "outputs": [],
   "source": [
    "import pandas as pd\n",
    "import networkx as nx\n",
    "import matplotlib\n",
    "%matplotlib inline\n",
    "import matplotlib.pyplot as plt\n",
    "#from pprint import pprint\n",
    "import seaborn as sns\n",
    "import numpy as np\n",
    "from collections import Counter\n",
    "\n",
    "#import graph_tool\n",
    "#from graph_tool import draw\n",
    "#from graph_tool import inference"
   ]
  },
  {
   "cell_type": "code",
   "execution_count": 2,
   "id": "2820308a",
   "metadata": {},
   "outputs": [],
   "source": [
    "#!pip install --user networkx\n",
    "#!pip install graph_tool"
   ]
  },
  {
   "cell_type": "code",
   "execution_count": 3,
   "id": "1103bd8d",
   "metadata": {},
   "outputs": [],
   "source": [
    "edges = pd.read_csv(\"../data/musae_git_edges.csv\")\n",
    "metadata = pd.read_csv(\"../data/musae_git_target.csv\")"
   ]
  },
  {
   "cell_type": "code",
   "execution_count": 4,
   "id": "4189e705",
   "metadata": {},
   "outputs": [
    {
     "data": {
      "text/html": [
       "<div>\n",
       "<style scoped>\n",
       "    .dataframe tbody tr th:only-of-type {\n",
       "        vertical-align: middle;\n",
       "    }\n",
       "\n",
       "    .dataframe tbody tr th {\n",
       "        vertical-align: top;\n",
       "    }\n",
       "\n",
       "    .dataframe thead th {\n",
       "        text-align: right;\n",
       "    }\n",
       "</style>\n",
       "<table border=\"1\" class=\"dataframe\">\n",
       "  <thead>\n",
       "    <tr style=\"text-align: right;\">\n",
       "      <th></th>\n",
       "      <th>id</th>\n",
       "      <th>name</th>\n",
       "      <th>ml_target</th>\n",
       "    </tr>\n",
       "  </thead>\n",
       "  <tbody>\n",
       "    <tr>\n",
       "      <th>0</th>\n",
       "      <td>0</td>\n",
       "      <td>Eiryyy</td>\n",
       "      <td>0</td>\n",
       "    </tr>\n",
       "    <tr>\n",
       "      <th>1</th>\n",
       "      <td>1</td>\n",
       "      <td>shawflying</td>\n",
       "      <td>0</td>\n",
       "    </tr>\n",
       "    <tr>\n",
       "      <th>2</th>\n",
       "      <td>2</td>\n",
       "      <td>JpMCarrilho</td>\n",
       "      <td>1</td>\n",
       "    </tr>\n",
       "    <tr>\n",
       "      <th>3</th>\n",
       "      <td>3</td>\n",
       "      <td>SuhwanCha</td>\n",
       "      <td>0</td>\n",
       "    </tr>\n",
       "    <tr>\n",
       "      <th>4</th>\n",
       "      <td>4</td>\n",
       "      <td>sunilangadi2</td>\n",
       "      <td>1</td>\n",
       "    </tr>\n",
       "  </tbody>\n",
       "</table>\n",
       "</div>"
      ],
      "text/plain": [
       "   id          name  ml_target\n",
       "0   0        Eiryyy          0\n",
       "1   1    shawflying          0\n",
       "2   2   JpMCarrilho          1\n",
       "3   3     SuhwanCha          0\n",
       "4   4  sunilangadi2          1"
      ]
     },
     "execution_count": 4,
     "metadata": {},
     "output_type": "execute_result"
    }
   ],
   "source": [
    "metadata.head()"
   ]
  },
  {
   "cell_type": "code",
   "execution_count": 5,
   "id": "08574850",
   "metadata": {},
   "outputs": [
    {
     "data": {
      "text/html": [
       "<div>\n",
       "<style scoped>\n",
       "    .dataframe tbody tr th:only-of-type {\n",
       "        vertical-align: middle;\n",
       "    }\n",
       "\n",
       "    .dataframe tbody tr th {\n",
       "        vertical-align: top;\n",
       "    }\n",
       "\n",
       "    .dataframe thead th {\n",
       "        text-align: right;\n",
       "    }\n",
       "</style>\n",
       "<table border=\"1\" class=\"dataframe\">\n",
       "  <thead>\n",
       "    <tr style=\"text-align: right;\">\n",
       "      <th></th>\n",
       "      <th>id_1</th>\n",
       "      <th>id_2</th>\n",
       "    </tr>\n",
       "  </thead>\n",
       "  <tbody>\n",
       "    <tr>\n",
       "      <th>0</th>\n",
       "      <td>0</td>\n",
       "      <td>23977</td>\n",
       "    </tr>\n",
       "    <tr>\n",
       "      <th>1</th>\n",
       "      <td>1</td>\n",
       "      <td>34526</td>\n",
       "    </tr>\n",
       "    <tr>\n",
       "      <th>2</th>\n",
       "      <td>1</td>\n",
       "      <td>2370</td>\n",
       "    </tr>\n",
       "    <tr>\n",
       "      <th>3</th>\n",
       "      <td>1</td>\n",
       "      <td>14683</td>\n",
       "    </tr>\n",
       "    <tr>\n",
       "      <th>4</th>\n",
       "      <td>1</td>\n",
       "      <td>29982</td>\n",
       "    </tr>\n",
       "  </tbody>\n",
       "</table>\n",
       "</div>"
      ],
      "text/plain": [
       "   id_1   id_2\n",
       "0     0  23977\n",
       "1     1  34526\n",
       "2     1   2370\n",
       "3     1  14683\n",
       "4     1  29982"
      ]
     },
     "execution_count": 5,
     "metadata": {},
     "output_type": "execute_result"
    }
   ],
   "source": [
    "edges.head()"
   ]
  },
  {
   "cell_type": "markdown",
   "id": "74d0031e",
   "metadata": {},
   "source": [
    "See number or ML developers vs Web Developers in the dataset"
   ]
  },
  {
   "cell_type": "code",
   "execution_count": 6,
   "id": "6a036e57",
   "metadata": {},
   "outputs": [
    {
     "data": {
      "text/plain": [
       "ml_target\n",
       "0    27961\n",
       "1     9739\n",
       "dtype: int64"
      ]
     },
     "execution_count": 6,
     "metadata": {},
     "output_type": "execute_result"
    }
   ],
   "source": [
    "metadata.groupby(\"ml_target\").size()"
   ]
  },
  {
   "cell_type": "code",
   "execution_count": 7,
   "id": "10674097",
   "metadata": {},
   "outputs": [
    {
     "data": {
      "text/html": [
       "<div>\n",
       "<style scoped>\n",
       "    .dataframe tbody tr th:only-of-type {\n",
       "        vertical-align: middle;\n",
       "    }\n",
       "\n",
       "    .dataframe tbody tr th {\n",
       "        vertical-align: top;\n",
       "    }\n",
       "\n",
       "    .dataframe thead th {\n",
       "        text-align: right;\n",
       "    }\n",
       "</style>\n",
       "<table border=\"1\" class=\"dataframe\">\n",
       "  <thead>\n",
       "    <tr style=\"text-align: right;\">\n",
       "      <th></th>\n",
       "      <th>id_1</th>\n",
       "      <th>id_2</th>\n",
       "      <th>count</th>\n",
       "    </tr>\n",
       "  </thead>\n",
       "  <tbody>\n",
       "    <tr>\n",
       "      <th>0</th>\n",
       "      <td>0</td>\n",
       "      <td>23977</td>\n",
       "      <td>1</td>\n",
       "    </tr>\n",
       "    <tr>\n",
       "      <th>192665</th>\n",
       "      <td>19222</td>\n",
       "      <td>21321</td>\n",
       "      <td>1</td>\n",
       "    </tr>\n",
       "    <tr>\n",
       "      <th>192671</th>\n",
       "      <td>19222</td>\n",
       "      <td>21399</td>\n",
       "      <td>1</td>\n",
       "    </tr>\n",
       "    <tr>\n",
       "      <th>192670</th>\n",
       "      <td>19222</td>\n",
       "      <td>21381</td>\n",
       "      <td>1</td>\n",
       "    </tr>\n",
       "    <tr>\n",
       "      <th>192669</th>\n",
       "      <td>19222</td>\n",
       "      <td>21375</td>\n",
       "      <td>1</td>\n",
       "    </tr>\n",
       "  </tbody>\n",
       "</table>\n",
       "</div>"
      ],
      "text/plain": [
       "         id_1   id_2  count\n",
       "0           0  23977      1\n",
       "192665  19222  21321      1\n",
       "192671  19222  21399      1\n",
       "192670  19222  21381      1\n",
       "192669  19222  21375      1"
      ]
     },
     "execution_count": 7,
     "metadata": {},
     "output_type": "execute_result"
    }
   ],
   "source": [
    "#each connection only appers once\n",
    "edges.groupby(['id_1', 'id_2']).size().reset_index(name='count').sort_values(by='count', ascending=False).head()"
   ]
  },
  {
   "cell_type": "code",
   "execution_count": null,
   "id": "eaabe5d1",
   "metadata": {},
   "outputs": [
    {
     "name": "stdout",
     "output_type": "stream",
     "text": [
      "Median GitHub Friend Count: 3.0\n"
     ]
    }
   ],
   "source": [
    "connections = edges.groupby('id_1')['id_2'].count()\n",
    "sorted_connections = connections.sort_values(ascending=False)\n",
    "\n",
    "median_connections = connections.median()\n",
    "print('Median GitHub Friend Count:', median_connections)\n",
    "\n",
    "\n",
    "plt.hist(connections, bins=30, range=(0, 100))\n",
    "plt.xlabel('Number of Followings')\n",
    "plt.ylabel('Frequency')\n",
    "plt.title('Histogram of Number of Connections')\n",
    "plt.savefig(\"plots/hist_nr_connections\")\n",
    "plt.show()\n"
   ]
  },
  {
   "cell_type": "code",
   "execution_count": null,
   "id": "ddfe4aff",
   "metadata": {},
   "outputs": [],
   "source": [
    "#%matplotlib notebook"
   ]
  },
  {
   "cell_type": "code",
   "execution_count": null,
   "id": "5f3f8c0c",
   "metadata": {},
   "outputs": [],
   "source": [
    "# Explore the outliers, there are accounts with 1000 followings and more\n",
    "plt.boxplot(connections, showfliers=True)\n",
    "plt.ylabel('Number of Connections')\n",
    "plt.title('Boxplot of Number of Connections with Outliers')\n",
    "plt.savefig(\"plots/box_nr_connections\")\n",
    "plt.show()"
   ]
  },
  {
   "cell_type": "code",
   "execution_count": null,
   "id": "d4932cee",
   "metadata": {},
   "outputs": [],
   "source": [
    "\n",
    "\n",
    "# Merge the datasets based on the common identifier\n",
    "merged_df = pd.merge(edges, metadata, left_on='id_1', right_on='id')\n",
    "\n",
    "# Calculate the number of connections for each user account\n",
    "connections = merged_df.groupby('id')['id_2'].count()\n",
    "\n",
    "# Calculate the average number of connections for ml_target=0 and ml_target=1\n",
    "med_connections = merged_df.groupby('ml_target')['id'].apply(lambda x: connections.loc[x].median())\n",
    "\n",
    "print(med_connections)"
   ]
  },
  {
   "cell_type": "markdown",
   "id": "78d71304",
   "metadata": {},
   "source": [
    "## Build the Network"
   ]
  },
  {
   "cell_type": "code",
   "execution_count": null,
   "id": "7f57e121",
   "metadata": {},
   "outputs": [],
   "source": [
    "G = nx.Graph()\n",
    "\n",
    "# Add nodes to the graph\n",
    "for _, row in metadata.iterrows():\n",
    "    node_id = row['id']\n",
    "    node_name = row['name']\n",
    "    ml_target = row['ml_target']\n",
    "\n",
    "    # Add node to the graph with color based on ml_target\n",
    "    #color = 'yellow' if ml_target == 1 else 'blue'\n",
    "    G.add_node(node_id, name=node_name, target=ml_target)\n",
    "    \n",
    "    \n",
    "    \n",
    "# Add edges to the graph\n",
    "for _, row in edges.iterrows():\n",
    "    id_1 = row['id_1']\n",
    "    id_2 = row['id_2']\n",
    "\n",
    "    # Add edge between id_1 and id_2\n",
    "    G.add_edge(id_1, id_2)"
   ]
  },
  {
   "cell_type": "code",
   "execution_count": null,
   "id": "3d668422",
   "metadata": {},
   "outputs": [],
   "source": [
    "#nx.draw_networkx(G)"
   ]
  },
  {
   "cell_type": "code",
   "execution_count": null,
   "id": "01df2671",
   "metadata": {},
   "outputs": [],
   "source": [
    "E = G.number_of_edges()\n",
    "N = G.order()\n",
    "print(\"Number of nodes:\", len(G.nodes()))\n",
    "print(\"Number of edges:\", len(G.edges()))\n",
    "print (\"Average degree=\", 2*E/N)\n",
    "print(\"Density\",nx.density(G))"
   ]
  },
  {
   "cell_type": "code",
   "execution_count": null,
   "id": "81b7ad2d",
   "metadata": {},
   "outputs": [],
   "source": [
    "degree_dct = G.degree()\n",
    "## Save it as node attribute in the graph object\n",
    "nx.set_node_attributes(G, dict(degree_dct), name=\"degree\")\n",
    "metadata['degree'] = metadata[\"id\"].map(dict(degree_dct))\n",
    "metadata.sort_values(\"degree\",ascending=False).head(10)"
   ]
  },
  {
   "cell_type": "code",
   "execution_count": null,
   "id": "72a4bea9-c71b-4aba-bbc8-0519ea991fc3",
   "metadata": {},
   "outputs": [],
   "source": [
    "#draw a node with degree 5 with all direct neighbours\n",
    "node_id = metadata[metadata['degree'] == 5]['id'].tolist()[0]\n",
    "neighbors = list(G.neighbors(node_id))\n",
    "# Create a subgraph containing the node and its neighbors\n",
    "subgraph = G.subgraph([node_id] + neighbors)\n",
    "\n",
    "#print(G.nodes[32769])\n",
    "\n",
    "# Get node colors based on the 'ml_target' attribute\n",
    "node_colors = ['orange' if G.nodes[node]['target'] == 1 else 'lightblue' for node in subgraph.nodes]\n",
    "\n",
    "# Draw the subgraph\n",
    "pos = nx.spring_layout(subgraph)\n",
    "nx.draw_networkx(subgraph, pos, with_labels=True, node_color=node_colors, node_size=500)\n",
    "# Show the plot\n",
    "plt.axis('off')\n",
    "plt.show()\n",
    "\n",
    "\n"
   ]
  },
  {
   "cell_type": "code",
   "execution_count": null,
   "id": "059bf458",
   "metadata": {},
   "outputs": [],
   "source": [
    "metadata[\"degree\"].hist(bins=20,density=True, range=(0, 100))\n",
    "# plt.plot(np.arange(0,100),stats.poisson.pmf(np.arange(0,100),2*E/N))\n",
    "plt.xlabel(\"Degree\")\n",
    "plt.ylabel(\"Probability\")\n",
    "plt.gca().grid(False)\n",
    "plt.savefig(\"plots/hist_degree\")\n",
    "plt.show()"
   ]
  },
  {
   "cell_type": "code",
   "execution_count": null,
   "id": "41d62936-e92e-4d8c-9f5e-723087d35527",
   "metadata": {},
   "outputs": [],
   "source": [
    "#degreee curve\n",
    "sorted_m = metadata.sort_values(\"degree\",ascending=False).reset_index().head(15)\n",
    "\n",
    "plt.plot(sorted_m['degree'])\n",
    "plt.xlabel('Index (sorted)')\n",
    "plt.ylabel('Degree')\n",
    "plt.title('Degree Line Chart')\n",
    "plt.show()"
   ]
  },
  {
   "cell_type": "code",
   "execution_count": null,
   "id": "8fae4d04",
   "metadata": {},
   "outputs": [],
   "source": [
    "#Clustering Coefficient\n",
    "clust_dct = nx.clustering(G)\n",
    "clustering_coefficient = nx.average_clustering(G)\n",
    "print(\"Clustering coefficient:\", clustering_coefficient)\n",
    "nx.set_node_attributes(G,clust_dct,name=\"clustering\")\n",
    "metadata['clustering'] = metadata.id.map(clust_dct)\n",
    "metadata.sort_values(\"clustering\",ascending=False).head(10)"
   ]
  },
  {
   "cell_type": "code",
   "execution_count": null,
   "id": "c28ae723",
   "metadata": {},
   "outputs": [],
   "source": [
    "#Eigenvector centrality\n",
    "eigen_dct = nx.eigenvector_centrality(G,max_iter=1000)\n",
    "nx.set_node_attributes(G,eigen_dct,name=\"eigenvector\")\n",
    "metadata['eigenvector'] = metadata.id.map(eigen_dct)\n",
    "metadata.sort_values(\"eigenvector\",ascending=False).head(10)"
   ]
  },
  {
   "cell_type": "code",
   "execution_count": null,
   "id": "6e802d1b-6f2d-4468-b265-dda92ddcdd85",
   "metadata": {},
   "outputs": [],
   "source": [
    "node_id = 31890\n",
    "neighbors = list(G.neighbors(node_id))\n",
    "# Create a subgraph containing the node and its neighbors\n",
    "subgraph = G.subgraph([node_id] + neighbors)\n",
    "\n",
    "#print(G.nodes[32769])\n",
    "\n",
    "# Get node colors based on the 'ml_target' attribute\n",
    "node_colors = ['orange' if G.nodes[node]['target'] == 1 else 'lightblue' for node in subgraph.nodes]\n",
    "\n",
    "# Draw the subgraph\n",
    "pos = nx.spring_layout(subgraph)\n",
    "nx.draw_networkx(subgraph, pos, with_labels=False, node_color=node_colors, node_size=10)\n",
    "# Show the plot\n",
    "plt.axis('off')\n",
    "plt.show()"
   ]
  },
  {
   "cell_type": "code",
   "execution_count": null,
   "id": "0a55b2e0",
   "metadata": {},
   "outputs": [],
   "source": [
    "#PageRank centrality\n",
    "pr_dct = nx.pagerank(G,max_iter=1000)\n",
    "nx.set_node_attributes(G,pr_dct,name=\"pagerank\")\n",
    "metadata['pagerank'] = metadata.id.map(pr_dct)\n",
    "metadata.sort_values(\"pagerank\",ascending=False).head(10)"
   ]
  },
  {
   "cell_type": "code",
   "execution_count": null,
   "id": "ad5f30b2-9aa3-4bc2-9224-26c0d5e9f5ed",
   "metadata": {},
   "outputs": [],
   "source": [
    "dc_dct = nx.degree_centrality(G)\n",
    "nx.set_node_attributes(G,dc_dct,name=\"degree_centrality\")\n",
    "metadata['degree_centrality'] = metadata.id.map(dc_dct)\n",
    "metadata.sort_values(\"degree_centrality\",ascending=False).head(10)"
   ]
  },
  {
   "cell_type": "code",
   "execution_count": null,
   "id": "8a22cc2f",
   "metadata": {},
   "outputs": [],
   "source": [
    "#Betweenness centrality\n",
    "betwn_dct = nx.betweenness_centrality(G)\n",
    "nx.set_node_attributes(G,betwn_dct,name=\"betweenness\")\n",
    "metadata['betweenness'] = metadata.id.map(betwn_dct)\n",
    "metadata.sort_values(\"betweenness\",ascending=False).head(10)"
   ]
  },
  {
   "cell_type": "code",
   "execution_count": null,
   "id": "d99f014a",
   "metadata": {},
   "outputs": [],
   "source": [
    "#Closeness centrality\n",
    "close_dct = nx.closeness_centrality(G)\n",
    "nx.set_node_attributes(G,close_dct,name=\"closeness\")\n",
    "metadata['closeness'] = metadata.id.map(close_dct)\n",
    "metadata.sort_values(\"closeness\",ascending=False).head(10)"
   ]
  },
  {
   "cell_type": "code",
   "execution_count": null,
   "id": "ad2bbc83",
   "metadata": {},
   "outputs": [],
   "source": [
    "#Correlation between Features\n",
    "sns.pairplot(metadata)"
   ]
  },
  {
   "cell_type": "markdown",
   "id": "0e75a8f8",
   "metadata": {},
   "source": [
    "#### Community Analysis"
   ]
  },
  {
   "cell_type": "code",
   "execution_count": null,
   "id": "328b0464",
   "metadata": {},
   "outputs": [],
   "source": [
    "#run brew install graph-tool\n",
    "\n",
    "#import graph_tool\n",
    "#from graph_tool import draw\n",
    "#from graph_tool import inference"
   ]
  },
  {
   "cell_type": "code",
   "execution_count": null,
   "id": "2b4ff810",
   "metadata": {},
   "outputs": [],
   "source": [
    "#k-core decomposition\n",
    "\n",
    "cores_dct = {}\n",
    "for ki in range(1,40):\n",
    "    node_lst_i = nx.k_core(G,ki).nodes\n",
    "    cores_dct_i = {ni:ki for ni in node_lst_i}\n",
    "    cores_dct.update(cores_dct_i)\n",
    "    #print (len(node_lst_i))\n",
    "    if len(node_lst_i) <= 0:\n",
    "        break"
   ]
  },
  {
   "cell_type": "code",
   "execution_count": null,
   "id": "740a2426-9e88-4840-bf18-6f4084b6da6c",
   "metadata": {},
   "outputs": [],
   "source": [
    "nx.set_node_attributes(G, cores_dct, name=\"k-core\")\n",
    "metadata['k-core'] = metadata.id.map(cores_dct)\n",
    "metadata.sort_values(\"k-core\",ascending=False).head(10)"
   ]
  },
  {
   "cell_type": "code",
   "execution_count": null,
   "id": "80bff11a-c6c9-4db5-b431-3199a77be3a4",
   "metadata": {},
   "outputs": [],
   "source": [
    "nx.write_gexf(G,\"result_graph.gexf\")"
   ]
  },
  {
   "cell_type": "code",
   "execution_count": null,
   "id": "71bdbc45-0e72-44e7-9266-3b8453082bb9",
   "metadata": {},
   "outputs": [],
   "source": [
    "plt.hist(metadata[\"clustering\"], bins=20)\n",
    "plt.xlabel('clustering coefficient')\n",
    "#plt.ylabel('Y-axis label')\n",
    "plt.title('Histogram of Clustering')\n",
    "plt.savefig(\"plots/hist_clustering\")"
   ]
  },
  {
   "cell_type": "code",
   "execution_count": null,
   "id": "466eb005-095a-49dd-aea7-9330a719c469",
   "metadata": {},
   "outputs": [],
   "source": [
    "plt.hist(metadata[\"eigenvector\"], bins=100)\n",
    "plt.xlabel('eigenvector')\n",
    "#plt.ylabel('Y-axis label')\n",
    "plt.title('Histogram of Eigenvector')\n",
    "plt.savefig(\"plots/hist_eigenvector\")"
   ]
  },
  {
   "cell_type": "code",
   "execution_count": null,
   "id": "73ef7286-1286-4f75-ae02-8eac20ffa752",
   "metadata": {},
   "outputs": [],
   "source": [
    "plt.hist(metadata[\"k-core\"], bins=100)\n",
    "plt.xlabel('k-core')\n",
    "#plt.ylabel('Y-axis label')\n",
    "plt.title('Histogram of K-Core')"
   ]
  },
  {
   "cell_type": "code",
   "execution_count": null,
   "id": "ff92596d-4df1-49a3-af45-1a10c1e5cfdb",
   "metadata": {},
   "outputs": [],
   "source": [
    "metadata.to_csv(\"data/metadata_p.csv\",index=False)"
   ]
  },
  {
   "cell_type": "code",
   "execution_count": null,
   "id": "0c7e6277-754f-4965-91d2-971087fcd71a",
   "metadata": {},
   "outputs": [],
   "source": []
  }
 ],
 "metadata": {
  "kernelspec": {
   "display_name": "Python 3 (ipykernel)",
   "language": "python",
   "name": "python3"
  },
  "language_info": {
   "codemirror_mode": {
    "name": "ipython",
    "version": 3
   },
   "file_extension": ".py",
   "mimetype": "text/x-python",
   "name": "python",
   "nbconvert_exporter": "python",
   "pygments_lexer": "ipython3",
   "version": "3.9.15"
  }
 },
 "nbformat": 4,
 "nbformat_minor": 5
}
